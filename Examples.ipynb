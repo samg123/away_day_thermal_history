{
 "cells": [
  {
   "cell_type": "markdown",
   "metadata": {},
   "source": [
    "#### Core Thermal History\n",
    "\n",
    "The geodynamo is powered by cooling of the core and release of light elements from a freezing inner core through the resulting convection. Paleomagnetic measurements tell us that a global interally generated magnetic field has apperntly existed for the majority of Earth's history, well before the inner core first nucleated. Thermal history models allow us to understand how the core might have evolved over time whilst maintaining a magnetic field.\n",
    "\n",
    "Convection is driven by tiny thermal/compositional perturbations in the core and so when looking at the long-term evolution of the core, these average out to a steady adiabatic state. As such thermal history models consider variations in temperature, melting temperature, density, pressure etc. in radius only with the specific patterns of convection not needing consideration.\n",
    "\n",
    "For the core to generate a magnetic field the entropy of ohmic dissipation must be positive. That is to say that the entropy budget has room for a magnetic field and as such will looses energy through ohmic dissipation and therefore be an entropy source. The model is therefore concerned with calculating necessary information to evaluate Ej at each time step. This involves knowing things like:\n",
    "* the core cooling rate\n",
    "* growth of the inner core\n",
    "* release of light elements from the inner core\n",
    "* radial structure of core properties (e.g. temperature, density)\n",
    "\n",
    "which are dependent on data from mineral physics and seismology like:\n",
    "* density\n",
    "* thermal conductivity\n",
    "* light element concentration\n",
    "* melting temperature of iron\n",
    "* melting temperature depression due to LE.\n",
    "\n",
    "and finally this is all tied together with a boundary condition on the heat flow at the CMB.\n",
    "\n",
    "\n",
    "This notebook goes through some of the functions of the included 'thermal_history' python package. A model for an adiabatic core is set up, run and the results are plotted. Not all functions are demonstrated here but an overview of the modules within is provided below:\n",
    "\n",
    ">**thermal_history (package)**\n",
    "\n",
    ">> **model_classes**: classes for adiabatic core, mantle and stable layer.\n",
    "\n",
    ">> **evolution**: functions that contain the workflow for evolving a model 1 time step.\n",
    "\n",
    ">> **core (sub-package)**\n",
    "\n",
    ">>> **profiles**: evaluating radial profiles for core properties (temperature, density, conductivity etc.)\n",
    "\n",
    ">>> **chemistry**: functions relating to core chemistry\n",
    "\n",
    ">>> **energy**: functions relating to core energy/entropy\n",
    "\n",
    ">> **stable_layer (sub-package)**\n",
    "\n",
    ">>> **functions**: functions required for stable layer evolution. Contains the CN 'diffusion' function.\n",
    "\n",
    "\n",
    "\n",
    "Here we will ignore anything and everything to do with stable layers (still working on it!) so we will just be considering the 'core' models.\n",
    "\n",
    "The general method for using the code is to intialise a model with the relavant model class from thermal_history.model_classes module. core_class will use core_parameters.py (an example is provided) which contains all the intial conditions and core properties. Then iterate time stepping the model with the 'core_class.evolve' and 'thermal_history.evolution.update' functions until it has run for the desired length. What is calculated at each time step is delt with in the 'thermal_history.evolution.core_evolution' function. This is all demonstrated below:"
   ]
  },
  {
   "cell_type": "code",
   "execution_count": 1,
   "metadata": {
    "collapsed": true
   },
   "outputs": [],
   "source": [
    "#As with most python scripts, we will probably endup using these\n",
    "import numpy as np\n",
    "import matplotlib.pyplot as plt"
   ]
  },
  {
   "cell_type": "code",
   "execution_count": 2,
   "metadata": {},
   "outputs": [],
   "source": [
    "#Import the python class for an adiabatic core model\n",
    "from thermal_history.model_classes import core_class\n",
    "\n",
    "core = core_class()"
   ]
  },
  {
   "cell_type": "markdown",
   "metadata": {},
   "source": [
    "**When initialised the core class imports the core_parameters.py module from the current working directory. Everything within the module is passed into the model class.**"
   ]
  },
  {
   "cell_type": "code",
   "execution_count": null,
   "metadata": {
    "collapsed": true
   },
   "outputs": [],
   "source": []
  },
  {
   "cell_type": "code",
   "execution_count": 3,
   "metadata": {},
   "outputs": [
    {
     "name": "stdout",
     "output_type": "stream",
     "text": [
      "Time = 4500000000 years\n",
      "Temperature at center: 5583.7 ˚K, 5583.7 ˚K\n",
      "Qcmb heat flow: 15.00 TW, 15.00 TW\n"
     ]
    }
   ],
   "source": [
    "#Import the paramters file that this class has been initiallised with so we can compare.\n",
    "import core_parameters as prm\n",
    "\n",
    "t = core.time\n",
    "ys = core.ys\n",
    "print(\"Time = %2.0f years\" % (t/ys))\n",
    "\n",
    "\n",
    "#Compare values in the parameters file with that of the class to see they are the same.\n",
    "print(\"Temperature at center: %4.1f ˚K, %4.1f ˚K\" % (prm.Tcen, core.Tcen))\n",
    "\n",
    "\n",
    "#Any functions defined in core_parameters.py will now also be class methods\n",
    "print(\"Qcmb heat flow: %2.2f TW, %2.2f TW\" % (prm.Qcmb_func(t)/1e12, core.Qcmb_func(t)/1e12))"
   ]
  },
  {
   "cell_type": "code",
   "execution_count": null,
   "metadata": {
    "collapsed": true
   },
   "outputs": [],
   "source": []
  },
  {
   "cell_type": "markdown",
   "metadata": {},
   "source": [
    "**Assuming we are happy with the parameters specified we can time step it by some amount. By default it is set to use 1 Ma time step, however this can be set with the 'dt' keywod argument (in years!) and can be negative for a backwards in time model run.**"
   ]
  },
  {
   "cell_type": "code",
   "execution_count": 4,
   "metadata": {},
   "outputs": [
    {
     "name": "stdout",
     "output_type": "stream",
     "text": [
      "Time = 4499000000 years\n",
      "Temperature at center: 5583.9 ˚K\n"
     ]
    }
   ],
   "source": [
    "from thermal_history.evolution import update\n",
    "\n",
    "core.evolve(dt=-1e6)\n",
    "update(core_model=core)\n",
    "\n",
    "t = core.time\n",
    "ys = core.ys  #seconds in a year\n",
    "print(\"Time = %2.0f years\" % (t/ys))\n",
    "\n",
    "print(\"Temperature at center: %4.1f ˚K\" % core.Tcen)"
   ]
  },
  {
   "cell_type": "code",
   "execution_count": null,
   "metadata": {},
   "outputs": [],
   "source": []
  },
  {
   "cell_type": "markdown",
   "metadata": {},
   "source": [
    "**The model can be saved with the 'save' method of the model classes. This saves all numeric attributes (ints, floats and numpy arrays) to a netcdf 4 file. The model can be saved as frequently as desired. A 'read_data' function is also provided to return a dictionary of all saved variables.**"
   ]
  },
  {
   "cell_type": "code",
   "execution_count": 5,
   "metadata": {},
   "outputs": [
    {
     "name": "stdout",
     "output_type": "stream",
     "text": [
      "\n",
      "core_test.nc already exists, deleting core_test.nc\n",
      "\n",
      "dict_keys(['it', 'ys', 'save_it', 'D_c', 'G', 'L', 'Pcmb', 'Tcen', 'adiabat', 'alpha_T', 'alpha_c', 'cp', 'dmu', 'ent_mel', 'ev', 'i_rho', 'k', 'kappa', 'kb', 'lambda_liq', 'lambda_sol', 'melt_T', 'mf_l', 'mm', 'o_rho', 'profiles_np', 'r_upper', 'ri', 'time', 'dt', 'M0', 'Ek', 'Q_upper', 'Qs', 'Es', 'Ql', 'El', 'Qg', 'Eg', 'Ej', 'dT_dt', 'dri_dt', 'dc_dt', 'conc_l', 'conc_s'])\n"
     ]
    }
   ],
   "source": [
    "core.save(filename='core_test.nc')  #default is core_output.nc. If data file already exists it is overwritten!\n",
    "\n",
    "core_data = core.read_data()\n",
    "\n",
    "print(core_data.keys()) #Notice all the parameters from the core_parameters.py file also get saved."
   ]
  },
  {
   "cell_type": "code",
   "execution_count": null,
   "metadata": {},
   "outputs": [],
   "source": []
  },
  {
   "cell_type": "markdown",
   "metadata": {},
   "source": [
    "**Example Workflow. Running the model for 4.5Ga, reading in the data and plotting the results. Data is saved every 10th data point as writing to file is the longest task in each iteration.**"
   ]
  },
  {
   "cell_type": "code",
   "execution_count": 6,
   "metadata": {},
   "outputs": [
    {
     "name": "stdout",
     "output_type": "stream",
     "text": [
      "\n",
      "core_output.nc already exists, deleting core_output.nc\n",
      "\n"
     ]
    }
   ],
   "source": [
    "import numpy as np\n",
    "import matplotlib.pyplot as plt\n",
    "from thermal_history.model_classes import core_class\n",
    "from thermal_history.evolution import update\n",
    "\n",
    "core = core_class()\n",
    "\n",
    "\n",
    "for i in range(4500):\n",
    "    \n",
    "    core.evolve(dt=-1e6)\n",
    "    update(core_model=core)\n",
    "    \n",
    "    if i in range(0,4500,10):            #Save every 10th data point\n",
    "        core.save(print_progress=True)  #Sometimes printing the progress doesn't format correctly in jupyter notebooks if it runs too quickly\n",
    "    \n",
    "core.save(print_progress=True) #Save the last one\n",
    "    \n",
    "core_data = core.read_data()"
   ]
  },
  {
   "cell_type": "code",
   "execution_count": 12,
   "metadata": {},
   "outputs": [
    {
     "data": {
      "image/png": "[encoded data removed]",
      "text/plain": [
       "<matplotlib.figure.Figure at 0x151727c630>"
      ]
     },
     "metadata": {},
     "output_type": "display_data"
    }
   ],
   "source": [
    "time = core_data['time']/(1e6*core.ys)\n",
    "Tcen = core_data['Tcen']\n",
    "ri = core_data['ri']/1000\n",
    "Ej = core_data['Ej']/1e6\n",
    "Es = core_data['Es']/1e6\n",
    "El = core_data['El']/1e6\n",
    "Eg = core_data['Eg']/1e6\n",
    "Ek = core_data['Ek']/1e6\n",
    "O = core_data['conc_l'][:,0]\n",
    "Si = core_data['conc_l'][:,2]\n",
    "\n",
    "plt.figure(figsize=(13,8.5))\n",
    "plt.subplot(2,2,1)\n",
    "\n",
    "plt.plot(time,Tcen)\n",
    "plt.xlabel('Time / Ma')\n",
    "plt.ylabel('˚K')\n",
    "plt.title('Temperature at the center of the core')\n",
    "\n",
    "plt.subplot(2,2,2)\n",
    "\n",
    "plt.plot(time,ri)\n",
    "plt.xlabel('Time / Ma')\n",
    "plt.ylabel('km')\n",
    "plt.title('Inner core radius')\n",
    "\n",
    "plt.subplot(2,2,3)\n",
    "\n",
    "plt.plot(time,Ej)\n",
    "plt.xlabel('Time / Ma')\n",
    "plt.ylabel('MW/K')\n",
    "plt.title('Ej')\n",
    "\n",
    "plt.subplot(2,2,4)\n",
    "\n",
    "plt.plot(time,O)\n",
    "plt.plot(time,Si)\n",
    "plt.legend(['Oxygen','Silicon'],loc=0)\n",
    "plt.xlabel('Time, / Ma')\n",
    "plt.ylabel('wt %')\n",
    "plt.title('Light element mass fraction')\n",
    "\n",
    "plt.tight_layout()\n",
    "plt.show()"
   ]
  },
  {
   "cell_type": "code",
   "execution_count": null,
   "metadata": {},
   "outputs": [],
   "source": []
  },
  {
   "cell_type": "code",
   "execution_count": null,
   "metadata": {
    "collapsed": true
   },
   "outputs": [],
   "source": []
  },
  {
   "cell_type": "code",
   "execution_count": null,
   "metadata": {
    "collapsed": true
   },
   "outputs": [],
   "source": []
  },
  {
   "cell_type": "code",
   "execution_count": null,
   "metadata": {},
   "outputs": [],
   "source": []
  },
  {
   "cell_type": "code",
   "execution_count": null,
   "metadata": {},
   "outputs": [],
   "source": []
  },
  {
   "cell_type": "code",
   "execution_count": null,
   "metadata": {},
   "outputs": [],
   "source": []
  },
  {
   "cell_type": "code",
   "execution_count": null,
   "metadata": {},
   "outputs": [],
   "source": []
  },
  {
   "cell_type": "code",
   "execution_count": null,
   "metadata": {
    "collapsed": true
   },
   "outputs": [],
   "source": []
  }
 ],
 "metadata": {
  "kernelspec": {
   "display_name": "Python 3",
   "language": "python",
   "name": "python3"
  },
  "language_info": {
   "codemirror_mode": {
    "name": "ipython",
    "version": 3
   },
   "file_extension": ".py",
   "mimetype": "text/x-python",
   "name": "python",
   "nbconvert_exporter": "python",
   "pygments_lexer": "ipython3",
   "version": "3.6.3"
  }
 },
 "nbformat": 4,
 "nbformat_minor": 2
}
